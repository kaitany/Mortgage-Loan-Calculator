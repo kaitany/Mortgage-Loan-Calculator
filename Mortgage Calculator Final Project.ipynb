{
 "cells": [
  {
   "cell_type": "code",
   "execution_count": 1,
   "id": "159a45f0",
   "metadata": {},
   "outputs": [],
   "source": [
    "#Program objectives:\n",
    "\n",
    "#Program should calculate monthly payment instalments to settle mortgage loan.\n",
    "\n",
    "#Program should calculate total amount of loan for the specified period."
   ]
  },
  {
   "cell_type": "code",
   "execution_count": 2,
   "id": "2b19a987",
   "metadata": {},
   "outputs": [
    {
     "name": "stdout",
     "output_type": "stream",
     "text": [
      "Hello there, what's your name? Kelly\n",
      "Dear Kelly, welcome to Equity Bank. We are glad to be of service to you.\n",
      "enter amount of applied mortgage loan: 100000\n",
      "enter the number of years to pay mortgage loan: 30\n",
      "For a 30-year mortgage loan of $100,000 at an annual interest rate of 7.50% you pay,\n",
      "\n",
      "$699.21 monthly\n",
      "\n",
      "Total amount to be paid will be $251717.22\n"
     ]
    }
   ],
   "source": [
    "customer_name = input('Hello there, what\\'s your name? ')\n",
    "\n",
    "print(f'Dear {customer_name}, welcome to Equity Bank. We are glad to be of service to you.')\n",
    "\n",
    "mortgage_loan_principal=float(input('enter amount of applied mortgage loan: '))\n",
    "\n",
    "years_to_pay_mortgage=float(input('enter the number of years to pay mortgage loan: '))\n",
    "\n",
    "percent_annual_interest_rate=float(0.075)\n",
    "\n",
    "percent_monthy_interest_rate=float(0.075/12)\n",
    "                                   \n",
    "number_of_payments=float(years_to_pay_mortgage * 12)\n",
    "\n",
    "#created new strings from above variables\n",
    "#Below variables avoid long mathematical functions \n",
    "r = percent_monthy_interest_rate\n",
    "\n",
    "p = mortgage_loan_principal\n",
    "\n",
    "n = number_of_payments\n",
    "\n",
    "total_loan_amount = '%.2f' % float((r*p*n)/(1-(1+r)**-n))\n",
    "\n",
    "#Creation of variables & new strings i.e t, y and m\n",
    "\n",
    "t = total_loan_amount\n",
    "\n",
    "y = float((r*(r+1)**n)/((1+r)**n-1))\n",
    "\n",
    "monthly_payment = float(p)*y\n",
    "\n",
    "m = '%.2f' % monthly_payment\n",
    "\n",
    "print(f\"\"\"For a 30-year mortgage loan of $100,000 at an annual interest rate of 7.50% you pay,\n",
    "\n",
    "${m} monthly\n",
    "\n",
    "Total amount to be paid will be ${t}\"\"\")\n",
    "\n"
   ]
  }
 ],
 "metadata": {
  "kernelspec": {
   "display_name": "Python 3 (ipykernel)",
   "language": "python",
   "name": "python3"
  },
  "language_info": {
   "codemirror_mode": {
    "name": "ipython",
    "version": 3
   },
   "file_extension": ".py",
   "mimetype": "text/x-python",
   "name": "python",
   "nbconvert_exporter": "python",
   "pygments_lexer": "ipython3",
   "version": "3.10.9"
  }
 },
 "nbformat": 4,
 "nbformat_minor": 5
}
